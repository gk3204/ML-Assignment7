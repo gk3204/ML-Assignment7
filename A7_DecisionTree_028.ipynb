{
  "cells": [
    {
      "cell_type": "code",
      "execution_count": null,
      "id": "251d672e-375e-475b-9911-885b0075d194",
      "metadata": {
        "id": "251d672e-375e-475b-9911-885b0075d194"
      },
      "outputs": [],
      "source": [
        "from sklearn.preprocessing import LabelEncoder\n",
        "from sklearn.preprocessing import MinMaxScaler\n",
        "import pandas as pd\n",
        "import seaborn as sns\n",
        "import matplotlib.pyplot as plt\n",
        "from sklearn.tree import DecisionTreeClassifier\n",
        "from sklearn.model_selection import train_test_split"
      ]
    },
    {
      "cell_type": "code",
      "execution_count": null,
      "id": "8934266c-29fc-488d-a204-59c468cc99cf",
      "metadata": {
        "id": "8934266c-29fc-488d-a204-59c468cc99cf",
        "outputId": "1748fc34-b0d1-4b8a-b61f-18f84f4f5dfa"
      },
      "outputs": [
        {
          "data": {
            "text/html": [
              "<div>\n",
              "<style scoped>\n",
              "    .dataframe tbody tr th:only-of-type {\n",
              "        vertical-align: middle;\n",
              "    }\n",
              "\n",
              "    .dataframe tbody tr th {\n",
              "        vertical-align: top;\n",
              "    }\n",
              "\n",
              "    .dataframe thead th {\n",
              "        text-align: right;\n",
              "    }\n",
              "</style>\n",
              "<table border=\"1\" class=\"dataframe\">\n",
              "  <thead>\n",
              "    <tr style=\"text-align: right;\">\n",
              "      <th></th>\n",
              "      <th>gender</th>\n",
              "      <th>age</th>\n",
              "      <th>hypertension</th>\n",
              "      <th>heart_disease</th>\n",
              "      <th>smoking_history</th>\n",
              "      <th>bmi</th>\n",
              "      <th>HbA1c_level</th>\n",
              "      <th>blood_glucose_level</th>\n",
              "      <th>diabetes</th>\n",
              "    </tr>\n",
              "  </thead>\n",
              "  <tbody>\n",
              "    <tr>\n",
              "      <th>0</th>\n",
              "      <td>Female</td>\n",
              "      <td>80.0</td>\n",
              "      <td>0</td>\n",
              "      <td>1</td>\n",
              "      <td>never</td>\n",
              "      <td>25.19</td>\n",
              "      <td>6.6</td>\n",
              "      <td>140</td>\n",
              "      <td>0</td>\n",
              "    </tr>\n",
              "    <tr>\n",
              "      <th>1</th>\n",
              "      <td>Female</td>\n",
              "      <td>54.0</td>\n",
              "      <td>0</td>\n",
              "      <td>0</td>\n",
              "      <td>No Info</td>\n",
              "      <td>27.32</td>\n",
              "      <td>6.6</td>\n",
              "      <td>80</td>\n",
              "      <td>0</td>\n",
              "    </tr>\n",
              "    <tr>\n",
              "      <th>2</th>\n",
              "      <td>Male</td>\n",
              "      <td>28.0</td>\n",
              "      <td>0</td>\n",
              "      <td>0</td>\n",
              "      <td>never</td>\n",
              "      <td>27.32</td>\n",
              "      <td>5.7</td>\n",
              "      <td>158</td>\n",
              "      <td>0</td>\n",
              "    </tr>\n",
              "    <tr>\n",
              "      <th>3</th>\n",
              "      <td>Female</td>\n",
              "      <td>36.0</td>\n",
              "      <td>0</td>\n",
              "      <td>0</td>\n",
              "      <td>current</td>\n",
              "      <td>23.45</td>\n",
              "      <td>5.0</td>\n",
              "      <td>155</td>\n",
              "      <td>0</td>\n",
              "    </tr>\n",
              "    <tr>\n",
              "      <th>4</th>\n",
              "      <td>Male</td>\n",
              "      <td>76.0</td>\n",
              "      <td>1</td>\n",
              "      <td>1</td>\n",
              "      <td>current</td>\n",
              "      <td>20.14</td>\n",
              "      <td>4.8</td>\n",
              "      <td>155</td>\n",
              "      <td>0</td>\n",
              "    </tr>\n",
              "    <tr>\n",
              "      <th>5</th>\n",
              "      <td>Female</td>\n",
              "      <td>20.0</td>\n",
              "      <td>0</td>\n",
              "      <td>0</td>\n",
              "      <td>never</td>\n",
              "      <td>27.32</td>\n",
              "      <td>6.6</td>\n",
              "      <td>85</td>\n",
              "      <td>0</td>\n",
              "    </tr>\n",
              "    <tr>\n",
              "      <th>6</th>\n",
              "      <td>Female</td>\n",
              "      <td>44.0</td>\n",
              "      <td>0</td>\n",
              "      <td>0</td>\n",
              "      <td>never</td>\n",
              "      <td>19.31</td>\n",
              "      <td>6.5</td>\n",
              "      <td>200</td>\n",
              "      <td>1</td>\n",
              "    </tr>\n",
              "    <tr>\n",
              "      <th>7</th>\n",
              "      <td>Female</td>\n",
              "      <td>79.0</td>\n",
              "      <td>0</td>\n",
              "      <td>0</td>\n",
              "      <td>No Info</td>\n",
              "      <td>23.86</td>\n",
              "      <td>5.7</td>\n",
              "      <td>85</td>\n",
              "      <td>0</td>\n",
              "    </tr>\n",
              "    <tr>\n",
              "      <th>8</th>\n",
              "      <td>Male</td>\n",
              "      <td>42.0</td>\n",
              "      <td>0</td>\n",
              "      <td>0</td>\n",
              "      <td>never</td>\n",
              "      <td>33.64</td>\n",
              "      <td>4.8</td>\n",
              "      <td>145</td>\n",
              "      <td>0</td>\n",
              "    </tr>\n",
              "    <tr>\n",
              "      <th>9</th>\n",
              "      <td>Female</td>\n",
              "      <td>32.0</td>\n",
              "      <td>0</td>\n",
              "      <td>0</td>\n",
              "      <td>never</td>\n",
              "      <td>27.32</td>\n",
              "      <td>5.0</td>\n",
              "      <td>100</td>\n",
              "      <td>0</td>\n",
              "    </tr>\n",
              "  </tbody>\n",
              "</table>\n",
              "</div>"
            ],
            "text/plain": [
              "   gender   age  hypertension  heart_disease smoking_history    bmi  \\\n",
              "0  Female  80.0             0              1           never  25.19   \n",
              "1  Female  54.0             0              0         No Info  27.32   \n",
              "2    Male  28.0             0              0           never  27.32   \n",
              "3  Female  36.0             0              0         current  23.45   \n",
              "4    Male  76.0             1              1         current  20.14   \n",
              "5  Female  20.0             0              0           never  27.32   \n",
              "6  Female  44.0             0              0           never  19.31   \n",
              "7  Female  79.0             0              0         No Info  23.86   \n",
              "8    Male  42.0             0              0           never  33.64   \n",
              "9  Female  32.0             0              0           never  27.32   \n",
              "\n",
              "   HbA1c_level  blood_glucose_level  diabetes  \n",
              "0          6.6                  140         0  \n",
              "1          6.6                   80         0  \n",
              "2          5.7                  158         0  \n",
              "3          5.0                  155         0  \n",
              "4          4.8                  155         0  \n",
              "5          6.6                   85         0  \n",
              "6          6.5                  200         1  \n",
              "7          5.7                   85         0  \n",
              "8          4.8                  145         0  \n",
              "9          5.0                  100         0  "
            ]
          },
          "execution_count": 3,
          "metadata": {},
          "output_type": "execute_result"
        }
      ],
      "source": [
        "df = pd.read_csv('diabetes_prediction_dataset.csv')\n",
        "df.head(10)"
      ]
    },
    {
      "cell_type": "code",
      "execution_count": null,
      "id": "f7541b42-6871-41c4-9b30-62275daa29f0",
      "metadata": {
        "id": "f7541b42-6871-41c4-9b30-62275daa29f0",
        "outputId": "7f622377-b65f-4237-b1f9-f7444f887cf0"
      },
      "outputs": [
        {
          "name": "stdout",
          "output_type": "stream",
          "text": [
            "gender                 False\n",
            "age                    False\n",
            "hypertension           False\n",
            "heart_disease          False\n",
            "smoking_history        False\n",
            "bmi                    False\n",
            "HbA1c_level            False\n",
            "blood_glucose_level    False\n",
            "diabetes               False\n",
            "dtype: bool\n"
          ]
        }
      ],
      "source": [
        "any_null = df.isnull().any()\n",
        "print(any_null)"
      ]
    },
    {
      "cell_type": "code",
      "execution_count": null,
      "id": "c2c3a7e2-a2c2-41e9-b109-940f4801cb7f",
      "metadata": {
        "id": "c2c3a7e2-a2c2-41e9-b109-940f4801cb7f",
        "outputId": "0d6a5612-4488-4079-ae21-5a0e69d3c537"
      },
      "outputs": [
        {
          "data": {
            "text/html": [
              "<div>\n",
              "<style scoped>\n",
              "    .dataframe tbody tr th:only-of-type {\n",
              "        vertical-align: middle;\n",
              "    }\n",
              "\n",
              "    .dataframe tbody tr th {\n",
              "        vertical-align: top;\n",
              "    }\n",
              "\n",
              "    .dataframe thead th {\n",
              "        text-align: right;\n",
              "    }\n",
              "</style>\n",
              "<table border=\"1\" class=\"dataframe\">\n",
              "  <thead>\n",
              "    <tr style=\"text-align: right;\">\n",
              "      <th></th>\n",
              "      <th>gender</th>\n",
              "      <th>age</th>\n",
              "      <th>hypertension</th>\n",
              "      <th>heart_disease</th>\n",
              "      <th>smoking_history</th>\n",
              "      <th>bmi</th>\n",
              "      <th>HbA1c_level</th>\n",
              "      <th>blood_glucose_level</th>\n",
              "      <th>diabetes</th>\n",
              "    </tr>\n",
              "  </thead>\n",
              "  <tbody>\n",
              "    <tr>\n",
              "      <th>0</th>\n",
              "      <td>Female</td>\n",
              "      <td>80.0</td>\n",
              "      <td>0</td>\n",
              "      <td>1</td>\n",
              "      <td>4</td>\n",
              "      <td>25.19</td>\n",
              "      <td>6.6</td>\n",
              "      <td>140</td>\n",
              "      <td>0</td>\n",
              "    </tr>\n",
              "    <tr>\n",
              "      <th>1</th>\n",
              "      <td>Female</td>\n",
              "      <td>54.0</td>\n",
              "      <td>0</td>\n",
              "      <td>0</td>\n",
              "      <td>0</td>\n",
              "      <td>27.32</td>\n",
              "      <td>6.6</td>\n",
              "      <td>80</td>\n",
              "      <td>0</td>\n",
              "    </tr>\n",
              "    <tr>\n",
              "      <th>2</th>\n",
              "      <td>Male</td>\n",
              "      <td>28.0</td>\n",
              "      <td>0</td>\n",
              "      <td>0</td>\n",
              "      <td>4</td>\n",
              "      <td>27.32</td>\n",
              "      <td>5.7</td>\n",
              "      <td>158</td>\n",
              "      <td>0</td>\n",
              "    </tr>\n",
              "    <tr>\n",
              "      <th>3</th>\n",
              "      <td>Female</td>\n",
              "      <td>36.0</td>\n",
              "      <td>0</td>\n",
              "      <td>0</td>\n",
              "      <td>1</td>\n",
              "      <td>23.45</td>\n",
              "      <td>5.0</td>\n",
              "      <td>155</td>\n",
              "      <td>0</td>\n",
              "    </tr>\n",
              "    <tr>\n",
              "      <th>4</th>\n",
              "      <td>Male</td>\n",
              "      <td>76.0</td>\n",
              "      <td>1</td>\n",
              "      <td>1</td>\n",
              "      <td>1</td>\n",
              "      <td>20.14</td>\n",
              "      <td>4.8</td>\n",
              "      <td>155</td>\n",
              "      <td>0</td>\n",
              "    </tr>\n",
              "    <tr>\n",
              "      <th>5</th>\n",
              "      <td>Female</td>\n",
              "      <td>20.0</td>\n",
              "      <td>0</td>\n",
              "      <td>0</td>\n",
              "      <td>4</td>\n",
              "      <td>27.32</td>\n",
              "      <td>6.6</td>\n",
              "      <td>85</td>\n",
              "      <td>0</td>\n",
              "    </tr>\n",
              "    <tr>\n",
              "      <th>6</th>\n",
              "      <td>Female</td>\n",
              "      <td>44.0</td>\n",
              "      <td>0</td>\n",
              "      <td>0</td>\n",
              "      <td>4</td>\n",
              "      <td>19.31</td>\n",
              "      <td>6.5</td>\n",
              "      <td>200</td>\n",
              "      <td>1</td>\n",
              "    </tr>\n",
              "    <tr>\n",
              "      <th>7</th>\n",
              "      <td>Female</td>\n",
              "      <td>79.0</td>\n",
              "      <td>0</td>\n",
              "      <td>0</td>\n",
              "      <td>0</td>\n",
              "      <td>23.86</td>\n",
              "      <td>5.7</td>\n",
              "      <td>85</td>\n",
              "      <td>0</td>\n",
              "    </tr>\n",
              "    <tr>\n",
              "      <th>8</th>\n",
              "      <td>Male</td>\n",
              "      <td>42.0</td>\n",
              "      <td>0</td>\n",
              "      <td>0</td>\n",
              "      <td>4</td>\n",
              "      <td>33.64</td>\n",
              "      <td>4.8</td>\n",
              "      <td>145</td>\n",
              "      <td>0</td>\n",
              "    </tr>\n",
              "    <tr>\n",
              "      <th>9</th>\n",
              "      <td>Female</td>\n",
              "      <td>32.0</td>\n",
              "      <td>0</td>\n",
              "      <td>0</td>\n",
              "      <td>4</td>\n",
              "      <td>27.32</td>\n",
              "      <td>5.0</td>\n",
              "      <td>100</td>\n",
              "      <td>0</td>\n",
              "    </tr>\n",
              "  </tbody>\n",
              "</table>\n",
              "</div>"
            ],
            "text/plain": [
              "   gender   age  hypertension  heart_disease  smoking_history    bmi  \\\n",
              "0  Female  80.0             0              1                4  25.19   \n",
              "1  Female  54.0             0              0                0  27.32   \n",
              "2    Male  28.0             0              0                4  27.32   \n",
              "3  Female  36.0             0              0                1  23.45   \n",
              "4    Male  76.0             1              1                1  20.14   \n",
              "5  Female  20.0             0              0                4  27.32   \n",
              "6  Female  44.0             0              0                4  19.31   \n",
              "7  Female  79.0             0              0                0  23.86   \n",
              "8    Male  42.0             0              0                4  33.64   \n",
              "9  Female  32.0             0              0                4  27.32   \n",
              "\n",
              "   HbA1c_level  blood_glucose_level  diabetes  \n",
              "0          6.6                  140         0  \n",
              "1          6.6                   80         0  \n",
              "2          5.7                  158         0  \n",
              "3          5.0                  155         0  \n",
              "4          4.8                  155         0  \n",
              "5          6.6                   85         0  \n",
              "6          6.5                  200         1  \n",
              "7          5.7                   85         0  \n",
              "8          4.8                  145         0  \n",
              "9          5.0                  100         0  "
            ]
          },
          "execution_count": 10,
          "metadata": {},
          "output_type": "execute_result"
        }
      ],
      "source": [
        "label_encoder = LabelEncoder()\n",
        "df['smoking_history'] = label_encoder.fit_transform(df['smoking_history'])\n",
        "df.head(10)"
      ]
    },
    {
      "cell_type": "code",
      "execution_count": null,
      "id": "26bcce32-9878-4c62-84da-45d83ffeb4f0",
      "metadata": {
        "id": "26bcce32-9878-4c62-84da-45d83ffeb4f0",
        "outputId": "d71df76c-a04b-4e77-d88f-8cfa23b9049b"
      },
      "outputs": [
        {
          "data": {
            "text/html": [
              "<div>\n",
              "<style scoped>\n",
              "    .dataframe tbody tr th:only-of-type {\n",
              "        vertical-align: middle;\n",
              "    }\n",
              "\n",
              "    .dataframe tbody tr th {\n",
              "        vertical-align: top;\n",
              "    }\n",
              "\n",
              "    .dataframe thead th {\n",
              "        text-align: right;\n",
              "    }\n",
              "</style>\n",
              "<table border=\"1\" class=\"dataframe\">\n",
              "  <thead>\n",
              "    <tr style=\"text-align: right;\">\n",
              "      <th></th>\n",
              "      <th>gender</th>\n",
              "      <th>age</th>\n",
              "      <th>hypertension</th>\n",
              "      <th>heart_disease</th>\n",
              "      <th>smoking_history</th>\n",
              "      <th>bmi</th>\n",
              "      <th>HbA1c_level</th>\n",
              "      <th>blood_glucose_level</th>\n",
              "      <th>diabetes</th>\n",
              "    </tr>\n",
              "  </thead>\n",
              "  <tbody>\n",
              "    <tr>\n",
              "      <th>0</th>\n",
              "      <td>0</td>\n",
              "      <td>80.0</td>\n",
              "      <td>0</td>\n",
              "      <td>1</td>\n",
              "      <td>4</td>\n",
              "      <td>0.177171</td>\n",
              "      <td>0.563636</td>\n",
              "      <td>0.272727</td>\n",
              "      <td>0</td>\n",
              "    </tr>\n",
              "    <tr>\n",
              "      <th>1</th>\n",
              "      <td>0</td>\n",
              "      <td>54.0</td>\n",
              "      <td>0</td>\n",
              "      <td>0</td>\n",
              "      <td>0</td>\n",
              "      <td>0.202031</td>\n",
              "      <td>0.563636</td>\n",
              "      <td>0.000000</td>\n",
              "      <td>0</td>\n",
              "    </tr>\n",
              "    <tr>\n",
              "      <th>2</th>\n",
              "      <td>1</td>\n",
              "      <td>28.0</td>\n",
              "      <td>0</td>\n",
              "      <td>0</td>\n",
              "      <td>4</td>\n",
              "      <td>0.202031</td>\n",
              "      <td>0.400000</td>\n",
              "      <td>0.354545</td>\n",
              "      <td>0</td>\n",
              "    </tr>\n",
              "    <tr>\n",
              "      <th>3</th>\n",
              "      <td>0</td>\n",
              "      <td>36.0</td>\n",
              "      <td>0</td>\n",
              "      <td>0</td>\n",
              "      <td>1</td>\n",
              "      <td>0.156863</td>\n",
              "      <td>0.272727</td>\n",
              "      <td>0.340909</td>\n",
              "      <td>0</td>\n",
              "    </tr>\n",
              "    <tr>\n",
              "      <th>4</th>\n",
              "      <td>1</td>\n",
              "      <td>76.0</td>\n",
              "      <td>1</td>\n",
              "      <td>1</td>\n",
              "      <td>1</td>\n",
              "      <td>0.118231</td>\n",
              "      <td>0.236364</td>\n",
              "      <td>0.340909</td>\n",
              "      <td>0</td>\n",
              "    </tr>\n",
              "    <tr>\n",
              "      <th>5</th>\n",
              "      <td>0</td>\n",
              "      <td>20.0</td>\n",
              "      <td>0</td>\n",
              "      <td>0</td>\n",
              "      <td>4</td>\n",
              "      <td>0.202031</td>\n",
              "      <td>0.563636</td>\n",
              "      <td>0.022727</td>\n",
              "      <td>0</td>\n",
              "    </tr>\n",
              "    <tr>\n",
              "      <th>6</th>\n",
              "      <td>0</td>\n",
              "      <td>44.0</td>\n",
              "      <td>0</td>\n",
              "      <td>0</td>\n",
              "      <td>4</td>\n",
              "      <td>0.108543</td>\n",
              "      <td>0.545455</td>\n",
              "      <td>0.545455</td>\n",
              "      <td>1</td>\n",
              "    </tr>\n",
              "    <tr>\n",
              "      <th>7</th>\n",
              "      <td>0</td>\n",
              "      <td>79.0</td>\n",
              "      <td>0</td>\n",
              "      <td>0</td>\n",
              "      <td>0</td>\n",
              "      <td>0.161648</td>\n",
              "      <td>0.400000</td>\n",
              "      <td>0.022727</td>\n",
              "      <td>0</td>\n",
              "    </tr>\n",
              "    <tr>\n",
              "      <th>8</th>\n",
              "      <td>1</td>\n",
              "      <td>42.0</td>\n",
              "      <td>0</td>\n",
              "      <td>0</td>\n",
              "      <td>4</td>\n",
              "      <td>0.275794</td>\n",
              "      <td>0.236364</td>\n",
              "      <td>0.295455</td>\n",
              "      <td>0</td>\n",
              "    </tr>\n",
              "    <tr>\n",
              "      <th>9</th>\n",
              "      <td>0</td>\n",
              "      <td>32.0</td>\n",
              "      <td>0</td>\n",
              "      <td>0</td>\n",
              "      <td>4</td>\n",
              "      <td>0.202031</td>\n",
              "      <td>0.272727</td>\n",
              "      <td>0.090909</td>\n",
              "      <td>0</td>\n",
              "    </tr>\n",
              "  </tbody>\n",
              "</table>\n",
              "</div>"
            ],
            "text/plain": [
              "   gender   age  hypertension  heart_disease  smoking_history       bmi  \\\n",
              "0       0  80.0             0              1                4  0.177171   \n",
              "1       0  54.0             0              0                0  0.202031   \n",
              "2       1  28.0             0              0                4  0.202031   \n",
              "3       0  36.0             0              0                1  0.156863   \n",
              "4       1  76.0             1              1                1  0.118231   \n",
              "5       0  20.0             0              0                4  0.202031   \n",
              "6       0  44.0             0              0                4  0.108543   \n",
              "7       0  79.0             0              0                0  0.161648   \n",
              "8       1  42.0             0              0                4  0.275794   \n",
              "9       0  32.0             0              0                4  0.202031   \n",
              "\n",
              "   HbA1c_level  blood_glucose_level  diabetes  \n",
              "0     0.563636             0.272727         0  \n",
              "1     0.563636             0.000000         0  \n",
              "2     0.400000             0.354545         0  \n",
              "3     0.272727             0.340909         0  \n",
              "4     0.236364             0.340909         0  \n",
              "5     0.563636             0.022727         0  \n",
              "6     0.545455             0.545455         1  \n",
              "7     0.400000             0.022727         0  \n",
              "8     0.236364             0.295455         0  \n",
              "9     0.272727             0.090909         0  "
            ]
          },
          "execution_count": 33,
          "metadata": {},
          "output_type": "execute_result"
        }
      ],
      "source": [
        "\n",
        "df['gender'] = label_encoder.fit_transform(df['gender'])\n",
        "df.head(10)"
      ]
    },
    {
      "cell_type": "code",
      "execution_count": null,
      "id": "163fdad3-320d-4297-875f-c15dec79d461",
      "metadata": {
        "id": "163fdad3-320d-4297-875f-c15dec79d461",
        "outputId": "e4193502-e53c-4bd3-fb8a-7672ffc0412b"
      },
      "outputs": [
        {
          "name": "stdout",
          "output_type": "stream",
          "text": [
            "       gender   age  hypertension  heart_disease  smoking_history       bmi  \\\n",
            "0           0  80.0             0              1                4  0.177171   \n",
            "1           0  54.0             0              0                0  0.202031   \n",
            "2           1  28.0             0              0                4  0.202031   \n",
            "3           0  36.0             0              0                1  0.156863   \n",
            "4           1  76.0             1              1                1  0.118231   \n",
            "...       ...   ...           ...            ...              ...       ...   \n",
            "99995       0  80.0             0              0                0  0.202031   \n",
            "99996       0   2.0             0              0                0  0.085901   \n",
            "99997       1  66.0             0              0                3  0.207983   \n",
            "99998       0  24.0             0              0                4  0.296569   \n",
            "99999       0  57.0             0              0                1  0.144958   \n",
            "\n",
            "       HbA1c_level  blood_glucose_level  diabetes  \n",
            "0         0.563636             0.272727         0  \n",
            "1         0.563636             0.000000         0  \n",
            "2         0.400000             0.354545         0  \n",
            "3         0.272727             0.340909         0  \n",
            "4         0.236364             0.340909         0  \n",
            "...            ...                  ...       ...  \n",
            "99995     0.490909             0.045455         0  \n",
            "99996     0.545455             0.090909         0  \n",
            "99997     0.400000             0.340909         0  \n",
            "99998     0.090909             0.090909         0  \n",
            "99999     0.563636             0.045455         0  \n",
            "\n",
            "[100000 rows x 9 columns]\n"
          ]
        }
      ],
      "source": [
        "scaler = MinMaxScaler()\n",
        "\n",
        "# Specify columns to scale\n",
        "columns_to_scale = ['bmi','HbA1c_level', 'blood_glucose_level']\n",
        "\n",
        "\n",
        "df[columns_to_scale] = scaler.fit_transform(df[columns_to_scale])\n",
        "\n",
        "# Display the scaled DataFrame\n",
        "print(df)"
      ]
    },
    {
      "cell_type": "code",
      "execution_count": null,
      "id": "78da3609-a9e7-4832-9a58-3a5bcbfd496b",
      "metadata": {
        "id": "78da3609-a9e7-4832-9a58-3a5bcbfd496b",
        "outputId": "7c345022-b90c-4342-8f2a-8e8cf03a285e"
      },
      "outputs": [
        {
          "name": "stderr",
          "output_type": "stream",
          "text": [
            "/opt/anaconda3/lib/python3.11/site-packages/seaborn/_oldcore.py:1119: FutureWarning: use_inf_as_na option is deprecated and will be removed in a future version. Convert inf values to NaN before operating instead.\n",
            "  with pd.option_context('mode.use_inf_as_na', True):\n",
            "/opt/anaconda3/lib/python3.11/site-packages/seaborn/_oldcore.py:1119: FutureWarning: use_inf_as_na option is deprecated and will be removed in a future version. Convert inf values to NaN before operating instead.\n",
            "  with pd.option_context('mode.use_inf_as_na', True):\n",
            "/opt/anaconda3/lib/python3.11/site-packages/seaborn/_oldcore.py:1119: FutureWarning: use_inf_as_na option is deprecated and will be removed in a future version. Convert inf values to NaN before operating instead.\n",
            "  with pd.option_context('mode.use_inf_as_na', True):\n",
            "/opt/anaconda3/lib/python3.11/site-packages/seaborn/_oldcore.py:1119: FutureWarning: use_inf_as_na option is deprecated and will be removed in a future version. Convert inf values to NaN before operating instead.\n",
            "  with pd.option_context('mode.use_inf_as_na', True):\n"
          ]
        },
        {
          "data": {
            "image/png": "[encoded data removed]",
            "text/plain": [
              "<Figure size 1200x400 with 4 Axes>"
            ]
          },
          "metadata": {},
          "output_type": "display_data"
        }
      ],
      "source": [
        "\n",
        "\n",
        "# Distribution plots\n",
        "plt.figure(figsize=(12, 4))\n",
        "plt.subplot(1, 4, 1)\n",
        "sns.histplot(df['age'], kde=True)\n",
        "plt.title('Age Distribution')\n",
        "\n",
        "plt.subplot(1, 4, 2)\n",
        "sns.histplot(df['bmi'], kde=True)\n",
        "plt.title('BMI Distribution')\n",
        "\n",
        "plt.subplot(1, 4, 3)\n",
        "sns.histplot(df['blood_glucose_level'], kde=True)\n",
        "plt.title('Blood Glucose Level Distribution')\n",
        "\n",
        "\n",
        "plt.subplot(1, 4, 4)\n",
        "sns.histplot(df['HbA1c_level'], kde=True)\n",
        "plt.title('HbA1c Level Distribution')\n",
        "\n",
        "\n",
        "plt.tight_layout()\n",
        "plt.show()\n",
        "\n"
      ]
    },
    {
      "cell_type": "code",
      "execution_count": null,
      "id": "f08219e9-0fc1-4cec-bd8d-d12514663df7",
      "metadata": {
        "scrolled": true,
        "id": "f08219e9-0fc1-4cec-bd8d-d12514663df7",
        "outputId": "95709c6c-2b73-4f05-e8c3-43120a4ab8a1"
      },
      "outputs": [
        {
          "data": {
            "image/png": "[encoded data removed]",
            "text/plain": [
              "<Figure size 1200x400 with 4 Axes>"
            ]
          },
          "metadata": {},
          "output_type": "display_data"
        }
      ],
      "source": [
        "# Box plots\n",
        "plt.figure(figsize=(12, 4))\n",
        "plt.subplot(1, 4, 1)\n",
        "sns.boxplot(y=df['age'])\n",
        "plt.title('Age')\n",
        "\n",
        "plt.subplot(1, 4, 2)\n",
        "sns.boxplot(y=df['bmi'])\n",
        "plt.title('BMI')\n",
        "\n",
        "plt.subplot(1, 4, 3)\n",
        "sns.boxplot(y=df['blood_glucose_level'])\n",
        "plt.title('Blood Glucose Level')\n",
        "\n",
        "plt.subplot(1, 4, 4)\n",
        "sns.boxplot(df['HbA1c_level'])\n",
        "plt.title('HbA1c Level Distribution')\n",
        "\n",
        "plt.tight_layout()\n",
        "plt.show()"
      ]
    },
    {
      "cell_type": "code",
      "execution_count": null,
      "id": "d4cc9590-a39e-4f90-acc1-04c705c3f6ed",
      "metadata": {
        "id": "d4cc9590-a39e-4f90-acc1-04c705c3f6ed",
        "outputId": "fc91fd62-4184-44a0-eafc-d411f814027e"
      },
      "outputs": [
        {
          "data": {
            "image/png": "[encoded data removed]",
            "text/plain": [
              "<Figure size 800x600 with 2 Axes>"
            ]
          },
          "metadata": {},
          "output_type": "display_data"
        }
      ],
      "source": [
        "# Correlation heatmap\n",
        "plt.figure(figsize=(8, 6))\n",
        "sns.heatmap(df[['age', 'bmi', 'blood_glucose_level']].corr(), annot=True, cmap='coolwarm', fmt=\".2f\")\n",
        "plt.title('Correlation Heatmap')\n",
        "plt.show()"
      ]
    },
    {
      "cell_type": "code",
      "execution_count": null,
      "id": "61c2ed1b-1f43-4f89-9d0c-c01f4b4026e2",
      "metadata": {
        "id": "61c2ed1b-1f43-4f89-9d0c-c01f4b4026e2",
        "outputId": "b8fac61c-a86b-4aaf-c4c6-7a3179b495b8"
      },
      "outputs": [
        {
          "name": "stdout",
          "output_type": "stream",
          "text": [
            "       gender   age  hypertension  heart_disease  smoking_history       bmi  \\\n",
            "0           0  80.0             0              1                4  0.177171   \n",
            "1           0  54.0             0              0                0  0.202031   \n",
            "2           1  28.0             0              0                4  0.202031   \n",
            "3           0  36.0             0              0                1  0.156863   \n",
            "4           1  76.0             1              1                1  0.118231   \n",
            "...       ...   ...           ...            ...              ...       ...   \n",
            "99995       0  80.0             0              0                0  0.202031   \n",
            "99996       0   2.0             0              0                0  0.085901   \n",
            "99997       1  66.0             0              0                3  0.207983   \n",
            "99998       0  24.0             0              0                4  0.296569   \n",
            "99999       0  57.0             0              0                1  0.144958   \n",
            "\n",
            "       HbA1c_level  blood_glucose_level  \n",
            "0         0.563636             0.272727  \n",
            "1         0.563636             0.000000  \n",
            "2         0.400000             0.354545  \n",
            "3         0.272727             0.340909  \n",
            "4         0.236364             0.340909  \n",
            "...            ...                  ...  \n",
            "99995     0.490909             0.045455  \n",
            "99996     0.545455             0.090909  \n",
            "99997     0.400000             0.340909  \n",
            "99998     0.090909             0.090909  \n",
            "99999     0.563636             0.045455  \n",
            "\n",
            "[100000 rows x 8 columns]\n",
            "0        0\n",
            "1        0\n",
            "2        0\n",
            "3        0\n",
            "4        0\n",
            "        ..\n",
            "99995    0\n",
            "99996    0\n",
            "99997    0\n",
            "99998    0\n",
            "99999    0\n",
            "Name: diabetes, Length: 100000, dtype: int64\n"
          ]
        }
      ],
      "source": [
        "X = df.drop(columns=['diabetes'])\n",
        "y = df['diabetes']\n",
        "print(X)\n",
        "print(y)"
      ]
    },
    {
      "cell_type": "code",
      "execution_count": null,
      "id": "3877f7bf-f810-4962-aaa3-c7edeaebb4bd",
      "metadata": {
        "id": "3877f7bf-f810-4962-aaa3-c7edeaebb4bd"
      },
      "outputs": [],
      "source": [
        "X_train, X_test, y_train, y_test = train_test_split(X, y, test_size=0.3, random_state=42)"
      ]
    },
    {
      "cell_type": "code",
      "execution_count": null,
      "id": "72eb39f6-8603-4b36-8d62-d7647156ed0f",
      "metadata": {
        "id": "72eb39f6-8603-4b36-8d62-d7647156ed0f",
        "outputId": "d2222375-67db-4c03-f353-d9bc31ec5ffa"
      },
      "outputs": [
        {
          "data": {
            "text/html": [
              "<style>#sk-container-id-1 {color: black;background-color: white;}#sk-container-id-1 pre{padding: 0;}#sk-container-id-1 div.sk-toggleable {background-color: white;}#sk-container-id-1 label.sk-toggleable__label {cursor: pointer;display: block;width: 100%;margin-bottom: 0;padding: 0.3em;box-sizing: border-box;text-align: center;}#sk-container-id-1 label.sk-toggleable__label-arrow:before {content: \"▸\";float: left;margin-right: 0.25em;color: #696969;}#sk-container-id-1 label.sk-toggleable__label-arrow:hover:before {color: black;}#sk-container-id-1 div.sk-estimator:hover label.sk-toggleable__label-arrow:before {color: black;}#sk-container-id-1 div.sk-toggleable__content {max-height: 0;max-width: 0;overflow: hidden;text-align: left;background-color: #f0f8ff;}#sk-container-id-1 div.sk-toggleable__content pre {margin: 0.2em;color: black;border-radius: 0.25em;background-color: #f0f8ff;}#sk-container-id-1 input.sk-toggleable__control:checked~div.sk-toggleable__content {max-height: 200px;max-width: 100%;overflow: auto;}#sk-container-id-1 input.sk-toggleable__control:checked~label.sk-toggleable__label-arrow:before {content: \"▾\";}#sk-container-id-1 div.sk-estimator input.sk-toggleable__control:checked~label.sk-toggleable__label {background-color: #d4ebff;}#sk-container-id-1 div.sk-label input.sk-toggleable__control:checked~label.sk-toggleable__label {background-color: #d4ebff;}#sk-container-id-1 input.sk-hidden--visually {border: 0;clip: rect(1px 1px 1px 1px);clip: rect(1px, 1px, 1px, 1px);height: 1px;margin: -1px;overflow: hidden;padding: 0;position: absolute;width: 1px;}#sk-container-id-1 div.sk-estimator {font-family: monospace;background-color: #f0f8ff;border: 1px dotted black;border-radius: 0.25em;box-sizing: border-box;margin-bottom: 0.5em;}#sk-container-id-1 div.sk-estimator:hover {background-color: #d4ebff;}#sk-container-id-1 div.sk-parallel-item::after {content: \"\";width: 100%;border-bottom: 1px solid gray;flex-grow: 1;}#sk-container-id-1 div.sk-label:hover label.sk-toggleable__label {background-color: #d4ebff;}#sk-container-id-1 div.sk-serial::before {content: \"\";position: absolute;border-left: 1px solid gray;box-sizing: border-box;top: 0;bottom: 0;left: 50%;z-index: 0;}#sk-container-id-1 div.sk-serial {display: flex;flex-direction: column;align-items: center;background-color: white;padding-right: 0.2em;padding-left: 0.2em;position: relative;}#sk-container-id-1 div.sk-item {position: relative;z-index: 1;}#sk-container-id-1 div.sk-parallel {display: flex;align-items: stretch;justify-content: center;background-color: white;position: relative;}#sk-container-id-1 div.sk-item::before, #sk-container-id-1 div.sk-parallel-item::before {content: \"\";position: absolute;border-left: 1px solid gray;box-sizing: border-box;top: 0;bottom: 0;left: 50%;z-index: -1;}#sk-container-id-1 div.sk-parallel-item {display: flex;flex-direction: column;z-index: 1;position: relative;background-color: white;}#sk-container-id-1 div.sk-parallel-item:first-child::after {align-self: flex-end;width: 50%;}#sk-container-id-1 div.sk-parallel-item:last-child::after {align-self: flex-start;width: 50%;}#sk-container-id-1 div.sk-parallel-item:only-child::after {width: 0;}#sk-container-id-1 div.sk-dashed-wrapped {border: 1px dashed gray;margin: 0 0.4em 0.5em 0.4em;box-sizing: border-box;padding-bottom: 0.4em;background-color: white;}#sk-container-id-1 div.sk-label label {font-family: monospace;font-weight: bold;display: inline-block;line-height: 1.2em;}#sk-container-id-1 div.sk-label-container {text-align: center;}#sk-container-id-1 div.sk-container {/* jupyter's `normalize.less` sets `[hidden] { display: none; }` but bootstrap.min.css set `[hidden] { display: none !important; }` so we also need the `!important` here to be able to override the default hidden behavior on the sphinx rendered scikit-learn.org. See: https://github.com/scikit-learn/scikit-learn/issues/21755 */display: inline-block !important;position: relative;}#sk-container-id-1 div.sk-text-repr-fallback {display: none;}</style><div id=\"sk-container-id-1\" class=\"sk-top-container\"><div class=\"sk-text-repr-fallback\"><pre>DecisionTreeClassifier(random_state=42)</pre><b>In a Jupyter environment, please rerun this cell to show the HTML representation or trust the notebook. <br />On GitHub, the HTML representation is unable to render, please try loading this page with nbviewer.org.</b></div><div class=\"sk-container\" hidden><div class=\"sk-item\"><div class=\"sk-estimator sk-toggleable\"><input class=\"sk-toggleable__control sk-hidden--visually\" id=\"sk-estimator-id-1\" type=\"checkbox\" checked><label for=\"sk-estimator-id-1\" class=\"sk-toggleable__label sk-toggleable__label-arrow\">DecisionTreeClassifier</label><div class=\"sk-toggleable__content\"><pre>DecisionTreeClassifier(random_state=42)</pre></div></div></div></div></div>"
            ],
            "text/plain": [
              "DecisionTreeClassifier(random_state=42)"
            ]
          },
          "execution_count": 37,
          "metadata": {},
          "output_type": "execute_result"
        }
      ],
      "source": [
        "dt_model = DecisionTreeClassifier(random_state=42)\n",
        "dt_model.fit(X_train, y_train)"
      ]
    },
    {
      "cell_type": "code",
      "execution_count": null,
      "id": "c8ea1098-ba4b-445c-95e9-3e1c1c555a3c",
      "metadata": {
        "id": "c8ea1098-ba4b-445c-95e9-3e1c1c555a3c",
        "outputId": "8ce04ef5-14e4-44c6-ae7a-14d0fd722894"
      },
      "outputs": [
        {
          "name": "stdout",
          "output_type": "stream",
          "text": [
            "[0.01216738 0.0644715  0.00553593 0.00439488 0.02680303 0.12460471\n",
            " 0.4974612  0.26456138]\n"
          ]
        }
      ],
      "source": [
        "feature_importances = dt_model.feature_importances_\n",
        "print(feature_importances)"
      ]
    },
    {
      "cell_type": "code",
      "execution_count": null,
      "id": "88736c3a-3f63-4926-ae33-03a99e8040fc",
      "metadata": {
        "id": "88736c3a-3f63-4926-ae33-03a99e8040fc",
        "outputId": "dac69e78-dd6d-45cf-bcfc-a3355dfc9343"
      },
      "outputs": [
        {
          "name": "stdout",
          "output_type": "stream",
          "text": [
            "Accuracy Score before feature selection:  0.9530666666666666\n"
          ]
        }
      ],
      "source": [
        "accuracy = dt_model.score(X_test, y_test)\n",
        "print(\"Accuracy Score before feature selection: \",accuracy)"
      ]
    },
    {
      "cell_type": "code",
      "execution_count": null,
      "id": "08374e5a-6092-4bcf-a5e4-68224e843db1",
      "metadata": {
        "id": "08374e5a-6092-4bcf-a5e4-68224e843db1",
        "outputId": "a0ba231a-10e7-4bc9-9d33-c1b7080e1c81"
      },
      "outputs": [
        {
          "name": "stdout",
          "output_type": "stream",
          "text": [
            "Accuracy using Entropy: 0.9542333333333334\n",
            "Accuracy using Gini-index: 0.9530666666666666\n"
          ]
        }
      ],
      "source": [
        "from sklearn.metrics import accuracy_score\n",
        "dt_model_entropy = DecisionTreeClassifier(criterion='entropy', random_state=42)\n",
        "dt_model_entropy.fit(X_train, y_train)\n",
        "\n",
        "# Evaluate Decision Tree model using Entropy\n",
        "y_pred_entropy = dt_model_entropy.predict(X_test)\n",
        "accuracy_entropy = accuracy_score(y_test, y_pred_entropy)\n",
        "print(\"Accuracy using Entropy:\", accuracy_entropy)\n",
        "\n",
        "# Train Decision Tree model using Gini-index\n",
        "dt_model_gini = DecisionTreeClassifier(criterion='gini', random_state=42)\n",
        "dt_model_gini.fit(X_train, y_train)\n",
        "\n",
        "# Evaluate Decision Tree model using Gini-index\n",
        "y_pred_gini = dt_model_gini.predict(X_test)\n",
        "accuracy_gini = accuracy_score(y_test, y_pred_gini)\n",
        "print(\"Accuracy using Gini-index:\", accuracy_gini)"
      ]
    },
    {
      "cell_type": "code",
      "execution_count": null,
      "id": "059bcae2-71d4-4bcf-83c4-f45dcc3febdf",
      "metadata": {
        "id": "059bcae2-71d4-4bcf-83c4-f45dcc3febdf",
        "outputId": "a65d9c89-9a40-4d42-be08-93e24b433765"
      },
      "outputs": [
        {
          "name": "stdout",
          "output_type": "stream",
          "text": [
            "Top 3 features: Index(['HbA1c_level', 'blood_glucose_level', 'bmi'], dtype='object')\n",
            "Accuracy with selected features: 0.9551666666666667\n"
          ]
        }
      ],
      "source": [
        "top_k = 3\n",
        "top_features_indices = feature_importances.argsort()[-top_k:][::-1]\n",
        "\n",
        "# Get names of top features\n",
        "top_features_names = X.columns[top_features_indices]\n",
        "\n",
        "print(\"Top\", top_k, \"features:\", top_features_names)\n",
        "\n",
        "# Rebuild model with selected features\n",
        "X_train_selected = X_train.iloc[:, top_features_indices]\n",
        "X_test_selected = X_test.iloc[:, top_features_indices]\n",
        "\n",
        "# Retrain the model using selected features\n",
        "dt_model_selected = DecisionTreeClassifier(random_state=42)\n",
        "dt_model_selected.fit(X_train_selected, y_train)\n",
        "\n",
        "# Evaluate the model\n",
        "accuracy = dt_model_selected.score(X_test_selected, y_test)\n",
        "print(\"Accuracy with selected features:\", accuracy)"
      ]
    },
    {
      "cell_type": "code",
      "execution_count": null,
      "id": "99436400-56d7-4572-bf7f-b3d72fb82676",
      "metadata": {
        "id": "99436400-56d7-4572-bf7f-b3d72fb82676",
        "outputId": "da5ba28b-e473-46e6-c76e-e7ddd3f66f69"
      },
      "outputs": [
        {
          "name": "stdout",
          "output_type": "stream",
          "text": [
            "Accuracy using Entropy: 0.9555666666666667\n"
          ]
        }
      ],
      "source": [
        "dt_model_entropy_sel = DecisionTreeClassifier(criterion='entropy', random_state=42)\n",
        "dt_model_entropy_sel.fit(X_train_selected, y_train)\n",
        "\n",
        "# Evaluate Decision Tree model using Entropy\n",
        "y_pred_entropy = dt_model_entropy_sel.predict(X_test_selected)\n",
        "accuracy_entropy = accuracy_score(y_test, y_pred_entropy)\n",
        "print(\"Accuracy using Entropy:\", accuracy_entropy)\n",
        "\n"
      ]
    },
    {
      "cell_type": "code",
      "execution_count": null,
      "id": "1e1c9ef1-f14c-4f48-afd7-0338c341e84a",
      "metadata": {
        "id": "1e1c9ef1-f14c-4f48-afd7-0338c341e84a"
      },
      "outputs": [],
      "source": [
        "from sklearn.feature_selection import SelectKBest, chi2\n",
        "\n",
        "k = 3  # Number of top features to select\n",
        "selector = SelectKBest(score_func=chi2, k=k)\n",
        "X_train_selected = selector.fit_transform(X_train, y_train)\n",
        "X_test_selected = selector.transform(X_test)\n",
        "\n",
        "# Get the indices of the selected features\n",
        "selected_feature_indices = selector.get_support(indices=True)\n",
        "\n",
        "# Get names of top features\n",
        "top_features_names = X.columns[selected_feature_indices]\n",
        "print(\"Top\", k, \"features selected by SelectKBest:\", top_features_names)\n",
        "\n",
        "# Train a decision tree model using the selected features\n",
        "dt_model_selected = DecisionTreeClassifier(random_state=42)\n",
        "dt_model_selected.fit(X_train_selected, y_train)\n",
        "\n",
        "# Evaluate the model\n",
        "accuracy = dt_model_selected.score(X_test_selected, y_test)\n",
        "print(\"Accuracy with selected features:\", accuracy)"
      ]
    },
    {
      "cell_type": "code",
      "execution_count": null,
      "id": "f01df4b7-dc26-4401-842a-8a3ce9fb1db4",
      "metadata": {
        "id": "f01df4b7-dc26-4401-842a-8a3ce9fb1db4"
      },
      "outputs": [],
      "source": [
        "fig  =  plt.figure(figsize=(20,15))\n",
        "tree.plot_tree(dt_model_entropy);"
      ]
    }
  ],
  "metadata": {
    "kernelspec": {
      "display_name": "Python 3 (ipykernel)",
      "language": "python",
      "name": "python3"
    },
    "language_info": {
      "codemirror_mode": {
        "name": "ipython",
        "version": 3
      },
      "file_extension": ".py",
      "mimetype": "text/x-python",
      "name": "python",
      "nbconvert_exporter": "python",
      "pygments_lexer": "ipython3",
      "version": "3.11.7"
    },
    "colab": {
      "provenance": []
    }
  },
  "nbformat": 4,
  "nbformat_minor": 5
}